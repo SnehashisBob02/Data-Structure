{
  "nbformat": 4,
  "nbformat_minor": 0,
  "metadata": {
    "colab": {
      "provenance": []
    },
    "kernelspec": {
      "name": "python3",
      "display_name": "Python 3"
    },
    "language_info": {
      "name": "python"
    }
  },
  "cells": [
    {
      "cell_type": "markdown",
      "source": [
        "# Data Structure"
      ],
      "metadata": {
        "id": "Zy57U3DssrW0"
      }
    },
    {
      "cell_type": "markdown",
      "source": [
        "1. What are data structures, and why are they important?\n",
        "  - Data structures are fundamental ways to organize and store data to enable efficient access and manipulation, and they are crucial for making efficient and reliable software because they optimize code performance and make it easier to understand and maintain.\n",
        "   They are important because they enable efficient algorithms and operations on data, leading to faster processing times and reduced data usage.\n",
        "\n",
        "2. Explain the difference between mutable and immutable data types with examples?\n",
        "  - In programming, mutable data types can be modified after creation, while immutable data types cannot be changed after created. Examples of mutable data types include lists and dictionaries, while immutable data types include strings and tuples.\n",
        "\n",
        "3. What are the main differences between lists and tuples in Python?\n",
        "  - The main difference between lists and tuples in Python lies in their mutability:\n",
        "  lists are mutable means it can be changed while tuples are immutable means it cannot be changed after creation.\n",
        "\n",
        "4.  Describe how dictionaries store data?\n",
        "  - Dictionaries are used to store data values in key:value pairs. A dictionary is a collection which is ordered, changeable and do not allow duplicates.\n",
        "\n",
        "5. Why might you use a set instead of a list in Python?\n",
        "  - I might use a set instead of a list in Python because sets cannot have multiple occurences of the same element. It make sets highly useful to efficiently remove duplicate values from a list or a tuple and to perform common math operations like unions and intersections.\n",
        "\n",
        "6. What is a string in Python, and how is it different from a list?\n",
        "  - In python, a string is an immutable sequence of characters enclosed in single and double quotes.\n",
        "Strings are useful for represnting textual data while lists are versatile data structures that can store different types of elements.\n",
        "\n",
        "7. How do tuples ensure data integrity in Python?\n",
        "  - Tuples are immutable to ensure that their contents remain constant throughout their lifecycle, guaranteeing data integrity and reliability.\n",
        "\n",
        "8. What is a hash table, and how does it relate to dictionaries in Python?\n",
        "  - A hash table is a data structure that store key-value pairs, using a hash functions to map keys to indices in an array for fast data retrieval, and python dictionaries are implemented using hash tables.\n",
        "\n",
        "9. Can lists contain different data types in Python?\n",
        "  - Lists can contain different data types in python including Strings, floats and booleans etc.\n",
        "\n",
        "10. Explain why strings are immutable in Python?\n",
        "  - In the String constant pool, a String object is likely to have more than one reference. If several references point to the same string without even knowing it, then it would be dangerous if any of the references modified that String value. This is why String objects are immutable.\n",
        "\n",
        "11. What advantages do dictionaries offer over lists for certain tasks?\n",
        "  - Dictionaries excel over lists for tasks requiring fast data retrieval and organization by keys, while lists are better for ordered collection and sequence operations.\n",
        "\n",
        "12. Describe a scenario where using a tuple would be preferable over a list?\n",
        "  - Use a list if you need a mutable collection of items where you may need to add, remove or change elements. Lists are more flexible and have more built-in methods, making them ideal for dynamic collections. Use a Tuple if you need an immutable collection where the elements won't change after creation.\n",
        "\n",
        "13. How do sets handle duplicate values in Python?\n",
        "  - Items of a Set in python is immutable, do not duplicate values and unordered. Thus, items in a set do not appear in a stipulated manner, that is they can appear in a different order every time it is used. Due to this, set items cannot be referred to by key or index.\n",
        "\n",
        "14. How does the “in” keyword work differently for lists and dictionaries?\n",
        "  - The in operator in pythonchecks if a specified value exists within a sequence, such as list, tuple or string. In python, the in keyword also helps iterate over sequences in for loops.\n",
        "\n",
        "15. Can you modify the elements of a tuple? Explain why or why not.\n",
        "  - No, the elements of a tuple cannot be directly modified after it's created because tuples are immutable, meaning their contetns cannot be changed, added or removed once they are defined.\n",
        "\n",
        "16. What is a nested dictionary, and give an example of its use case?\n",
        "  - A Nested dictionary is a dictionary where the values are themselves dictionaries, allowing for hierarchical data organization.\n",
        "  A use case is reprensting an organizational chart, where each department or key has a dictionary of employees with their details.\n",
        "\n",
        "17. Describe the time complexity of accessing elements in a dictionary.\n",
        "  - Accessing elements in a dictionary by key has an average time complexity of O(1), meaning it takes constant time, regardless of the dictionary's size.\n",
        "\n",
        "18. In what situations are lists preferred over dictionaries?\n",
        "  - For ordered collections and sequence operations, such as maintaing a stack or queue, lists are more suitable.\n",
        "\n",
        "19.  Why are dictionaries considered unordered, and how does that affect data retrieval?\n",
        "  - Dictionaries are considered unordered because they don't maintain a specific order for their key-value pairs, meaning the order of insertion is not preserved, and retrieval is based on keys, not position. This affects data retrieval by making it impossible to access elements by their position like in lists, and instead requiring the use of the key to retrieve the corresponding value.\n",
        "\n",
        "20.  Explain the difference between a list and a dictionary in terms of data retrieval.\n",
        "  - In terms of data retrieval, lists use integer indices(starting from zero) to access elements while dictionaries use keys to access associated values, offering faster lookups for specific data based on those keys."
      ],
      "metadata": {
        "id": "Hw_fNN_Nsv-B"
      }
    },
    {
      "cell_type": "code",
      "source": [
        "#1. Write a code to create a string with your name and print it.\n",
        "\n",
        "name = \"Snehashis\"\n",
        "print(name)"
      ],
      "metadata": {
        "colab": {
          "base_uri": "https://localhost:8080/"
        },
        "id": "-f8WQLTjD9z_",
        "outputId": "64a1f2c4-1a90-4b3a-aeed-735e695a250f"
      },
      "execution_count": 1,
      "outputs": [
        {
          "output_type": "stream",
          "name": "stdout",
          "text": [
            "Snehashis\n"
          ]
        }
      ]
    },
    {
      "cell_type": "code",
      "source": [
        "#2. Write a code to find the length of the string \"Hello World\".\n",
        "\n",
        "string = \"Hello world\"\n",
        "length = len(string)\n",
        "print(length);"
      ],
      "metadata": {
        "colab": {
          "base_uri": "https://localhost:8080/"
        },
        "id": "6cE7FhiiElEf",
        "outputId": "974b109a-8c2a-4ff7-b26e-6e9dc933b60a"
      },
      "execution_count": 2,
      "outputs": [
        {
          "output_type": "stream",
          "name": "stdout",
          "text": [
            "11\n"
          ]
        }
      ]
    },
    {
      "cell_type": "code",
      "source": [
        "#3. Write a code to slice the first 3 characters from the string \"Python Programming\".\n",
        "\n",
        "string = \"Python Programming\"\n",
        "sliced_string = string[:3]\n",
        "print(sliced_string)"
      ],
      "metadata": {
        "colab": {
          "base_uri": "https://localhost:8080/"
        },
        "id": "Dgnl5bObFEs2",
        "outputId": "6961d4dc-706c-4d00-de69-e8a61372a453"
      },
      "execution_count": 3,
      "outputs": [
        {
          "output_type": "stream",
          "name": "stdout",
          "text": [
            "Pyt\n"
          ]
        }
      ]
    },
    {
      "cell_type": "code",
      "source": [
        "#4. Write a code to convert the string \"hello\" to uppercase.\n",
        "\n",
        "string = \"hello\"\n",
        "uppercase_string = string.upper()\n",
        "print(uppercase_string);"
      ],
      "metadata": {
        "colab": {
          "base_uri": "https://localhost:8080/"
        },
        "id": "eYvOr92dFeK2",
        "outputId": "b5ed5b4c-3f6f-4168-a03c-d2c27d76e0a2"
      },
      "execution_count": 4,
      "outputs": [
        {
          "output_type": "stream",
          "name": "stdout",
          "text": [
            "HELLO\n"
          ]
        }
      ]
    },
    {
      "cell_type": "code",
      "source": [
        "#5. Write a code to replace the word \"apple\" with \"orange\" in the string \"I like apple\".\n",
        "\n",
        "original_string = \"I like apple\"\n",
        "new_string = original_string.replace(\"apple\",\"orange\")\n",
        "print(new_string);"
      ],
      "metadata": {
        "colab": {
          "base_uri": "https://localhost:8080/"
        },
        "id": "-3zFT73-F8j0",
        "outputId": "909414d9-03ab-4747-e43c-3c68a055874e"
      },
      "execution_count": 5,
      "outputs": [
        {
          "output_type": "stream",
          "name": "stdout",
          "text": [
            "I like orange\n"
          ]
        }
      ]
    },
    {
      "cell_type": "code",
      "source": [
        "#6. Write a code to create a list with numbers 1 to 5 and print it.\n",
        "\n",
        "numbers = list(range(1,6))\n",
        "print(numbers);"
      ],
      "metadata": {
        "colab": {
          "base_uri": "https://localhost:8080/"
        },
        "id": "lKfgKK-TG0vq",
        "outputId": "80957303-68ff-46ca-baf6-1962cdc0b223"
      },
      "execution_count": 6,
      "outputs": [
        {
          "output_type": "stream",
          "name": "stdout",
          "text": [
            "[1, 2, 3, 4, 5]\n"
          ]
        }
      ]
    },
    {
      "cell_type": "code",
      "source": [
        "#7. Write a code to append the number 10 to the list [1, 2, 3, 4].\n",
        "\n",
        "my_list = [1, 2, 3, 4]\n",
        "my_list.append(10)\n",
        "print(my_list);"
      ],
      "metadata": {
        "colab": {
          "base_uri": "https://localhost:8080/"
        },
        "id": "8Wt6AdO_HMv8",
        "outputId": "5fc1e830-c031-4658-efc1-4ba810462270"
      },
      "execution_count": 7,
      "outputs": [
        {
          "output_type": "stream",
          "name": "stdout",
          "text": [
            "[1, 2, 3, 4, 10]\n"
          ]
        }
      ]
    },
    {
      "cell_type": "code",
      "source": [
        "#8. Write a code to remove the number 3 from the list [1, 2, 3, 4, 5].\n",
        "\n",
        "my_list = [1, 2, 3, 4, 5]\n",
        "my_list.remove(3)\n",
        "print(my_list);"
      ],
      "metadata": {
        "colab": {
          "base_uri": "https://localhost:8080/"
        },
        "id": "CdToPw97HttT",
        "outputId": "e1f3d305-53d9-4594-96f7-7ceb80993b13"
      },
      "execution_count": 8,
      "outputs": [
        {
          "output_type": "stream",
          "name": "stdout",
          "text": [
            "[1, 2, 4, 5]\n"
          ]
        }
      ]
    },
    {
      "cell_type": "code",
      "source": [
        "#9. Write a code to access the second element in the list ['a', 'b', 'c', 'd'].\n",
        "\n",
        "my_list = ['a', 'b', 'c', 'd']\n",
        "second_element = my_list[1]\n",
        "print(second_element);"
      ],
      "metadata": {
        "colab": {
          "base_uri": "https://localhost:8080/"
        },
        "id": "nlr7feMzIA29",
        "outputId": "cb8ba4bf-0751-4a70-c7cb-d22a8d860be7"
      },
      "execution_count": 9,
      "outputs": [
        {
          "output_type": "stream",
          "name": "stdout",
          "text": [
            "b\n"
          ]
        }
      ]
    },
    {
      "cell_type": "code",
      "source": [
        "#10. Write a code to reverse the list [10, 20, 30, 40, 50].\n",
        "\n",
        "my_list = [10, 20, 30, 40, 50]\n",
        "reversed_list = my_list[::-1]\n",
        "print(reversed_list);\n"
      ],
      "metadata": {
        "colab": {
          "base_uri": "https://localhost:8080/"
        },
        "id": "nEpZxGC9ISOp",
        "outputId": "9ae477fc-7d42-4ae2-f90f-5a4fb4116a50"
      },
      "execution_count": 10,
      "outputs": [
        {
          "output_type": "stream",
          "name": "stdout",
          "text": [
            "[50, 40, 30, 20, 10]\n"
          ]
        }
      ]
    }
  ]
}